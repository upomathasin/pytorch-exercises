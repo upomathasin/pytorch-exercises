{
 "cells": [
  {
   "cell_type": "code",
   "execution_count": 1,
   "id": "8875f8a0",
   "metadata": {},
   "outputs": [],
   "source": [
    "import torch\n",
    "import torch.nn as nn\n",
    "import numpy as np\n",
    "from sklearn import datasets\n",
    "from sklearn.preprocessing import StandardScaler\n",
    "from sklearn.model_selection import train_test_split\n"
   ]
  },
  {
   "cell_type": "code",
   "execution_count": 2,
   "id": "b4b1e511",
   "metadata": {},
   "outputs": [
    {
     "name": "stdout",
     "output_type": "stream",
     "text": [
      "569 30\n"
     ]
    }
   ],
   "source": [
    "# Prepare data\n",
    "bc = datasets.load_breast_cancer()\n",
    "x,y = bc.data,bc.target\n",
    "n_samples,n_features = x.shape\n",
    "print(n_samples,n_features)\n",
    "\n",
    "# Split train and test data\n",
    "X_train,X_test,y_train,y_test = train_test_split(x,y,test_size=0.2,random_state=42)\n",
    "\n",
    "# Scale data\n",
    "sc = StandardScaler()\n",
    "X_train = sc.fit_transform(X_train)\n",
    "X_test =  sc.transform(X_test)\n",
    "\n",
    "# Convert into tensor\n",
    "X_train= torch.from_numpy(X_train.astype(np.float32))\n",
    "X_test= torch.from_numpy(X_test.astype(np.float32))\n",
    "y_train= torch.from_numpy(y_train.astype(np.float32))\n",
    "y_test= torch.from_numpy(y_test.astype(np.float32))\n",
    "\n",
    "\n",
    "y_train = y_train.view(y_train.shape[0],1)\n",
    "y_test = y_test.view(y_test.shape[0],1)\n",
    "\n"
   ]
  },
  {
   "cell_type": "code",
   "execution_count": 6,
   "id": "80424a1d",
   "metadata": {},
   "outputs": [
    {
     "name": "stdout",
     "output_type": "stream",
     "text": [
      "Epoch: 10, loss = 0.7114\n",
      "Epoch: 20, loss = 0.7114\n",
      "Epoch: 30, loss = 0.7114\n",
      "Epoch: 40, loss = 0.7114\n",
      "Epoch: 50, loss = 0.7114\n",
      "Epoch: 60, loss = 0.7114\n",
      "Epoch: 70, loss = 0.7114\n",
      "Epoch: 80, loss = 0.7114\n",
      "Epoch: 90, loss = 0.7114\n",
      "Epoch: 100, loss = 0.7114\n",
      "accuracy : 0.5000\n"
     ]
    }
   ],
   "source": [
    "# Define model\n",
    "class LogisticRegression(nn.Module):\n",
    "    def __init__(self,n_features):\n",
    "        super().__init__()\n",
    "        self.linear = nn.Linear(n_features,1)\n",
    "    \n",
    "    def forward(self,x):\n",
    "        y_pred = torch.sigmoid(self.linear(x))\n",
    "        return y_pred\n",
    "    \n",
    "\n",
    "model = LogisticRegression(n_features)\n",
    "\n",
    "# Loss an optimizer \n",
    "learning_rate = 0.1\n",
    "criterion = nn.BCELoss()\n",
    "optimizer = torch.optim.SGD(model.parameters(),lr=learning_rate)\n",
    "\n",
    "# Training \n",
    "num_epochs = 100\n",
    "for epoch in range(num_epochs):\n",
    "    # Forward\n",
    "    y_predict = model(X_train)\n",
    "    loss = criterion(y_predict,y_train)\n",
    "    # Backward\n",
    "    loss.backward()\n",
    "    \n",
    "    # zero gradients\n",
    "    optimizer.zero_grad()\n",
    "    \n",
    "    if(epoch+1)%10==0:\n",
    "        print(f'Epoch: {epoch+1}, loss = {loss.item():.4f}')\n",
    "\n",
    "\n",
    "\n",
    "with torch.no_grad():\n",
    "    y_predict = model(X_test)\n",
    "    y_predicted_cls = y_predict.round()\n",
    "    acc = y_predicted_cls.eq(y_test).sum()/float(y_test.shape[0])\n",
    "    print(f'accuracy : {acc:.4f}')"
   ]
  }
 ],
 "metadata": {
  "kernelspec": {
   "display_name": "pytorch_practice",
   "language": "python",
   "name": "python3"
  },
  "language_info": {
   "codemirror_mode": {
    "name": "ipython",
    "version": 3
   },
   "file_extension": ".py",
   "mimetype": "text/x-python",
   "name": "python",
   "nbconvert_exporter": "python",
   "pygments_lexer": "ipython3",
   "version": "3.9.21"
  }
 },
 "nbformat": 4,
 "nbformat_minor": 5
}
