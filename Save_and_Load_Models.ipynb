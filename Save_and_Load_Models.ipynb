{
 "cells": [
  {
   "cell_type": "code",
   "execution_count": null,
   "id": "178e0106",
   "metadata": {},
   "outputs": [],
   "source": [
    "'''\n",
    "# Complete model\n",
    "torch.save(model,path)\n",
    "\n",
    "# load saved model\n",
    "model = torch.load(path)\n",
    "model.eval()\n",
    "'''\n",
    "\n",
    "# '''\n",
    "# # save state dict\n",
    "# torch.save(model.state_dict(),path)\n",
    "# # model must be created again with parameters\n",
    "# model = Model(**args,**kwargs)\n",
    "# model.load_state_dict(torch.load(path))\n",
    "# model.eval()\n",
    "# '''\n",
    "\n"
   ]
  },
  {
   "cell_type": "code",
   "execution_count": 1,
   "id": "376f3192",
   "metadata": {},
   "outputs": [],
   "source": [
    "import torch\n",
    "import torch.nn as nn"
   ]
  },
  {
   "cell_type": "code",
   "execution_count": 2,
   "id": "1fa371b1",
   "metadata": {},
   "outputs": [],
   "source": [
    "# Define model class\n",
    "class Model(nn.Module):\n",
    "    def __init__(self,n_input_features):\n",
    "        super().__init__()\n",
    "        self.linear = nn.Linear(n_input_features,1)\n",
    "        \n",
    "    def forward(self,x):\n",
    "        y_pred = torch.sigmoid(self.linear(x))\n",
    "        return y_pred\n",
    "    \n",
    "    \n",
    "model = Model(n_input_features=6)\n",
    "# Then train the model....\n",
    "\n",
    "\n",
    "# Save whole model\n",
    "file_name = 'Models/model.pth'\n",
    "torch.save(model,file_name)\n",
    "\n"
   ]
  },
  {
   "cell_type": "code",
   "execution_count": 4,
   "id": "4b3b8344",
   "metadata": {},
   "outputs": [
    {
     "name": "stdout",
     "output_type": "stream",
     "text": [
      "Parameter containing:\n",
      "tensor([[-0.1240,  0.1608,  0.2646,  0.1386,  0.2200, -0.1091]],\n",
      "       requires_grad=True)\n",
      "Parameter containing:\n",
      "tensor([0.2547], requires_grad=True)\n"
     ]
    },
    {
     "name": "stderr",
     "output_type": "stream",
     "text": [
      "C:\\Users\\tahsi\\AppData\\Local\\Temp\\ipykernel_5744\\3727752447.py:2: FutureWarning: You are using `torch.load` with `weights_only=False` (the current default value), which uses the default pickle module implicitly. It is possible to construct malicious pickle data which will execute arbitrary code during unpickling (See https://github.com/pytorch/pytorch/blob/main/SECURITY.md#untrusted-models for more details). In a future release, the default value for `weights_only` will be flipped to `True`. This limits the functions that could be executed during unpickling. Arbitrary objects will no longer be allowed to be loaded via this mode unless they are explicitly allowlisted by the user via `torch.serialization.add_safe_globals`. We recommend you start setting `weights_only=True` for any use case where you don't have full control of the loaded file. Please open an issue on GitHub for any issues related to this experimental feature.\n",
      "  model = torch.load(file_name)\n"
     ]
    }
   ],
   "source": [
    "# Load the model\n",
    "model = torch.load(file_name)\n",
    "model.eval()\n",
    "\n",
    "for params in model.parameters():\n",
    "    print(params)"
   ]
  },
  {
   "cell_type": "code",
   "execution_count": 5,
   "id": "dd373340",
   "metadata": {},
   "outputs": [],
   "source": [
    "# Save state dict\n",
    "file_name = 'Models/model2.pth'\n",
    "torch.save(model.state_dict(),file_name)"
   ]
  },
  {
   "cell_type": "code",
   "execution_count": 6,
   "id": "eae74b7b",
   "metadata": {},
   "outputs": [
    {
     "name": "stdout",
     "output_type": "stream",
     "text": [
      "Parameter containing:\n",
      "tensor([[-0.1240,  0.1608,  0.2646,  0.1386,  0.2200, -0.1091]],\n",
      "       requires_grad=True)\n",
      "Parameter containing:\n",
      "tensor([0.2547], requires_grad=True)\n"
     ]
    },
    {
     "name": "stderr",
     "output_type": "stream",
     "text": [
      "C:\\Users\\tahsi\\AppData\\Local\\Temp\\ipykernel_5744\\2133773946.py:3: FutureWarning: You are using `torch.load` with `weights_only=False` (the current default value), which uses the default pickle module implicitly. It is possible to construct malicious pickle data which will execute arbitrary code during unpickling (See https://github.com/pytorch/pytorch/blob/main/SECURITY.md#untrusted-models for more details). In a future release, the default value for `weights_only` will be flipped to `True`. This limits the functions that could be executed during unpickling. Arbitrary objects will no longer be allowed to be loaded via this mode unless they are explicitly allowlisted by the user via `torch.serialization.add_safe_globals`. We recommend you start setting `weights_only=True` for any use case where you don't have full control of the loaded file. Please open an issue on GitHub for any issues related to this experimental feature.\n",
      "  model.load_state_dict(torch.load(file_name))\n"
     ]
    }
   ],
   "source": [
    "# Create model again \n",
    "model = Model(n_input_features=6)\n",
    "model.load_state_dict(torch.load(file_name))\n",
    "model.eval()\n",
    "\n",
    "\n",
    "for params in model.parameters():\n",
    "    print(params)"
   ]
  }
 ],
 "metadata": {
  "kernelspec": {
   "display_name": "pytorch_practice",
   "language": "python",
   "name": "python3"
  },
  "language_info": {
   "codemirror_mode": {
    "name": "ipython",
    "version": 3
   },
   "file_extension": ".py",
   "mimetype": "text/x-python",
   "name": "python",
   "nbconvert_exporter": "python",
   "pygments_lexer": "ipython3",
   "version": "3.9.21"
  }
 },
 "nbformat": 4,
 "nbformat_minor": 5
}
