{
 "cells": [
  {
   "cell_type": "code",
   "execution_count": 9,
   "id": "f6eeee44",
   "metadata": {},
   "outputs": [],
   "source": [
    "import torch\n",
    "import torch.nn as nn\n",
    "import torchvision \n",
    "import torchvision.transforms as transforms\n",
    "import torch.nn.functional as F\n",
    "import matplotlib.pyplot as plt\n",
    "from torch.utils.data import DataLoader\n"
   ]
  },
  {
   "cell_type": "code",
   "execution_count": null,
   "id": "ebf4aa71",
   "metadata": {},
   "outputs": [],
   "source": [
    "'''\n",
    "Formula of define output size after convolution:\n",
    "\n",
    "(W-F+2P)/S + 1\n",
    "\n",
    "where, W = width of input\n",
    "P = Padding\n",
    "S = Stride\n",
    "F = Filter size\n",
    "'''"
   ]
  },
  {
   "cell_type": "code",
   "execution_count": 11,
   "id": "83fa96b3",
   "metadata": {},
   "outputs": [
    {
     "name": "stdout",
     "output_type": "stream",
     "text": [
      "Files already downloaded and verified\n"
     ]
    }
   ],
   "source": [
    "# Define device\n",
    "device = torch.device('cuda' if torch.cuda.is_available() else 'cpu')\n",
    "\n",
    "# Define hyper parameters\n",
    "num_epochs = 4\n",
    "batch_size = 4\n",
    "learning_rate = 0.001\n",
    "\n",
    "\n",
    "# define transformations\n",
    "transform = transforms.Compose(\n",
    "    [\n",
    "        transforms.ToTensor(),\n",
    "        transforms.Normalize((0.5,0.5,0.5),(0.5,0.5,0.5))\n",
    "    ]\n",
    ")\n",
    "\n",
    "\n",
    "# Import dataset\n",
    "train_dataset = torchvision.datasets.CIFAR10(root=r'C:\\Pytorch Practice\\Data\\cifar10_dataset', train=True, transform=transforms.ToTensor(), download=True)\n",
    "\n",
    "test_dataset = torchvision.datasets.CIFAR10(root=r'C:\\Pytorch Practice\\Data\\cifar10_dataset', train=False, transform=transforms.ToTensor())\n",
    "# Dataloaders\n",
    "train_loaders =  DataLoader(dataset= train_dataset,batch_size=batch_size,shuffle= True)\n",
    "test_loaders =  DataLoader(dataset= test_dataset,batch_size=batch_size,shuffle= False)\n",
    "\n",
    "# Define classes\n",
    "classes = ('plane','car','bird','cat','deer','dog','frog','horse','ship','truck')\n"
   ]
  },
  {
   "cell_type": "code",
   "execution_count": 12,
   "id": "efc25853",
   "metadata": {},
   "outputs": [
    {
     "name": "stdout",
     "output_type": "stream",
     "text": [
      "Epoch 1/4, Loss = 2.3306\n",
      "Epoch 1/4, Loss = 2.2960\n",
      "Epoch 1/4, Loss = 2.3034\n",
      "Epoch 1/4, Loss = 2.2939\n",
      "Epoch 1/4, Loss = 2.2724\n",
      "Epoch 1/4, Loss = 2.2466\n",
      "Epoch 2/4, Loss = 2.3276\n",
      "Epoch 2/4, Loss = 2.2802\n",
      "Epoch 2/4, Loss = 2.1187\n",
      "Epoch 2/4, Loss = 2.3018\n",
      "Epoch 2/4, Loss = 2.4412\n",
      "Epoch 2/4, Loss = 1.8174\n",
      "Epoch 3/4, Loss = 2.5495\n",
      "Epoch 3/4, Loss = 2.1183\n",
      "Epoch 3/4, Loss = 1.8137\n",
      "Epoch 3/4, Loss = 2.5006\n",
      "Epoch 3/4, Loss = 1.7414\n",
      "Epoch 3/4, Loss = 1.8193\n",
      "Epoch 4/4, Loss = 1.2425\n",
      "Epoch 4/4, Loss = 1.9690\n",
      "Epoch 4/4, Loss = 0.9820\n",
      "Epoch 4/4, Loss = 2.4040\n",
      "Epoch 4/4, Loss = 1.9499\n",
      "Epoch 4/4, Loss = 2.3643\n"
     ]
    }
   ],
   "source": [
    "\n",
    "# Convolutional Neural Network\n",
    "class ConvNet(nn.Module):\n",
    "    def __init__(self):\n",
    "        super().__init__()\n",
    "        self.conv1 = nn.Conv2d(3,6,5) \n",
    "        self.pool = nn.MaxPool2d(2,2)   \n",
    "        self.conv2 = nn.Conv2d(6,16,5)  \n",
    "        self.fc1 = nn.Linear(16*5*5,120)\n",
    "        self.fc2 = nn.Linear(120,84)\n",
    "        self.fc3 = nn.Linear(84,10)\n",
    "        \n",
    "    def forward(self,x):\n",
    "        x = self.pool(F.relu(self.conv1(x))) # [3,32,32]-> [5,28,28]->[5,14,14]\n",
    "        x = self.pool(F.relu(self.conv2(x))) # [5,14,14]-> [16,10,10]->[16,5,5]\n",
    "        x = x.view(-1,16*5*5)\n",
    "        x = F.relu(self.fc1(x))\n",
    "        x = F.relu(self.fc2(x))\n",
    "        x = self.fc3(x)\n",
    "        return x                                       \n",
    "    \n",
    "    \n",
    "# Define model\n",
    "model = ConvNet().to(device)\n",
    "\n",
    "# Define loss and optimizer\n",
    "criterion = nn.CrossEntropyLoss()\n",
    "optimizer = torch.optim.SGD(model.parameters(), lr=learning_rate)\n",
    "\n",
    "# Training \n",
    "for epoch in range(num_epochs):\n",
    "    for i,(images,labels) in enumerate(train_loaders) :\n",
    "        # Move data to device\n",
    "        images = images.to(device)\n",
    "        labels = labels.to(device)\n",
    "        # Forward pass\n",
    "        \n",
    "        outputs = model(images)\n",
    "        loss = criterion(outputs,labels)\n",
    "\n",
    "        # Backward pass\n",
    "        optimizer.zero_grad()\n",
    "        loss.backward()\n",
    "        optimizer.step()\n",
    "    \n",
    "        if (i+1)%2000==0:\n",
    "            print(f'Epoch {epoch+1}/{num_epochs}, Loss = {loss.item():.4f}')\n",
    "        \n"
   ]
  },
  {
   "cell_type": "code",
   "execution_count": 13,
   "id": "c1e812cb",
   "metadata": {},
   "outputs": [
    {
     "data": {
      "text/plain": [
       "torch.Size([4, 3, 32, 32])"
      ]
     },
     "execution_count": 13,
     "metadata": {},
     "output_type": "execute_result"
    }
   ],
   "source": [
    "# Check data\n",
    "data = iter(train_loaders)\n",
    "images, labels= next(data)\n",
    "\n",
    "images.shape"
   ]
  }
 ],
 "metadata": {
  "kernelspec": {
   "display_name": "pytorch_practice",
   "language": "python",
   "name": "python3"
  },
  "language_info": {
   "codemirror_mode": {
    "name": "ipython",
    "version": 3
   },
   "file_extension": ".py",
   "mimetype": "text/x-python",
   "name": "python",
   "nbconvert_exporter": "python",
   "pygments_lexer": "ipython3",
   "version": "3.9.21"
  }
 },
 "nbformat": 4,
 "nbformat_minor": 5
}
