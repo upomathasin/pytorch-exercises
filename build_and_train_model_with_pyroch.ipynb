{
 "cells": [
  {
   "cell_type": "code",
   "execution_count": 2,
   "id": "48d14f6c",
   "metadata": {},
   "outputs": [
    {
     "data": {
      "text/plain": [
       "'\\nTraining steps: \\n1. Design model( input size, output size, forward pass)\\n2. Construct loss and optimizer\\n3. Training loop\\n    - forward pass: compute prediction\\n    - backward pass: get gradients\\n    - updates weights \\n\\n'"
      ]
     },
     "execution_count": 2,
     "metadata": {},
     "output_type": "execute_result"
    }
   ],
   "source": [
    "'''\n",
    "Training steps: \n",
    "1. Design model( input size, output size, forward pass)\n",
    "2. Construct loss and optimizer\n",
    "3. Training loop\n",
    "    - forward pass: compute prediction\n",
    "    - backward pass: get gradients\n",
    "    - updates weights \n",
    "\n",
    "'''"
   ]
  },
  {
   "cell_type": "code",
   "execution_count": 1,
   "id": "71e9793a",
   "metadata": {},
   "outputs": [],
   "source": [
    "# Import libraries\n",
    "import torch\n",
    "import torch.nn as nn"
   ]
  },
  {
   "cell_type": "code",
   "execution_count": 18,
   "id": "f646928d",
   "metadata": {},
   "outputs": [
    {
     "name": "stdout",
     "output_type": "stream",
     "text": [
      "Prediction before training f(5)=-5.042\n",
      "Epoch 1 w = -0.193, loss = 128.58706665\n",
      "Epoch 11 w = 2.406, loss = 3.33982134\n",
      "Epoch 21 w = 2.827, loss = 0.09862248\n",
      "Epoch 31 w = 2.897, loss = 0.01405426\n",
      "Epoch 41 w = 2.910, loss = 0.01119674\n",
      "Epoch 51 w = 2.915, loss = 0.01049222\n",
      "Epoch 61 w = 2.917, loss = 0.00988018\n",
      "Epoch 71 w = 2.920, loss = 0.00930505\n",
      "Epoch 81 w = 2.922, loss = 0.00876345\n",
      "Epoch 91 w = 2.925, loss = 0.00825340\n",
      "Prediction after training f(5)=14.849\n"
     ]
    }
   ],
   "source": [
    "\n",
    "# f = w * x\n",
    "X = torch.tensor([[1],[2],[3],[4]],dtype=torch.float32)\n",
    "Y = torch.tensor([[3],[6],[9],[12]],dtype=torch.float32)\n",
    "w = torch.tensor(0.0,dtype=torch.float32,requires_grad=True)\n",
    "\n",
    "X_test = torch.tensor([5],dtype=torch.float32)\n",
    "n_samples,n_features = X.shape\n",
    "\n",
    "input_size = n_features\n",
    "output_size = n_features\n",
    "\n",
    "\n",
    "\n",
    "\n",
    "# Custom liner regression model\n",
    "class LinearRegression(nn.Module):\n",
    "    def __init__(self,input_size,output_size):\n",
    "        super().__init__()\n",
    "        self.lin = nn.Linear(input_size,output_size)\n",
    "    \n",
    "    def forward(self,x):\n",
    "        return self.lin(x)\n",
    "        \n",
    "        \n",
    "\n",
    "\n",
    "# Define model\n",
    "model = LinearRegression(input_size,output_size)\n",
    "# Training\n",
    "learning_rate = 0.01\n",
    "n_iters = 100\n",
    "\n",
    " # Define Loss(MSE)\n",
    "loss = nn.MSELoss()\n",
    "# Optimizer\n",
    "optimizer = torch.optim.SGD(model.parameters(),lr=learning_rate)\n",
    "\n",
    "\n",
    "# Gradient \n",
    "# MSE = 1/N *(w*x - y)**2\n",
    "# dJ/dw = 1/N 2x (w*x-y)\n",
    "# Now we can simply use backward() in pytorch\n",
    "\n",
    "\n",
    "print(f'Prediction before training f(5)={model(X_test).item():.3f}' )\n",
    "\n",
    "\n",
    "for epoch in range(n_iters):\n",
    "    # Forward pass \n",
    "    y_pred = model(X)\n",
    "    #Loss \n",
    "    l = loss(Y,y_pred)\n",
    "    #gradient\n",
    "    l.backward() \n",
    "    \n",
    "    # Update weights \n",
    "    optimizer.step()\n",
    "    # Zero grad\n",
    "    optimizer.zero_grad()\n",
    "    if epoch%10==0:\n",
    "        [w,b] = model.parameters()\n",
    "        print(f'Epoch {epoch+1} w = {w[0][0].item():.3f}, loss = {l:.8f}')\n",
    "\n",
    "\n",
    "print(f'Prediction after training f(5)={model(X_test).item():.3f}')\n"
   ]
  }
 ],
 "metadata": {
  "kernelspec": {
   "display_name": "pytorch_practice",
   "language": "python",
   "name": "python3"
  },
  "language_info": {
   "codemirror_mode": {
    "name": "ipython",
    "version": 3
   },
   "file_extension": ".py",
   "mimetype": "text/x-python",
   "name": "python",
   "nbconvert_exporter": "python",
   "pygments_lexer": "ipython3",
   "version": "3.9.21"
  }
 },
 "nbformat": 4,
 "nbformat_minor": 5
}
