{
 "cells": [
  {
   "cell_type": "code",
   "execution_count": 34,
   "id": "99970a43",
   "metadata": {},
   "outputs": [],
   "source": [
    "import torch\n",
    "import torchvision\n",
    "from torch.utils.data import Dataset,DataLoader\n",
    "import numpy as np\n",
    "import math"
   ]
  },
  {
   "cell_type": "code",
   "execution_count": 35,
   "id": "f22da76c",
   "metadata": {},
   "outputs": [],
   "source": [
    "class WineDataset(Dataset):\n",
    "    def __init__(self,transform= None):\n",
    "        # data loading \n",
    "        xy = np.loadtxt('C:\\Pytorch Practice\\Data\\wine.csv',delimiter= \",\",dtype=np.float32, skiprows=1)\n",
    "        self.x = xy[:,1:]\n",
    "        self.y =xy[:,[0]] # n_samples,1\n",
    "        # self.x = torch.from_numpy(xy[:,1:]) # To tensor \n",
    "        # self.y =torch.from_numpy(xy[:,[0]]) # n_samples,1\n",
    "        self.n_samples = xy.shape[0]\n",
    "        self.transform = transform\n",
    "    def __getitem__(self, index):\n",
    "        # indexing\n",
    "        sample =  self.x[index],self.y[index]\n",
    "        if self.transform:\n",
    "            sample = self.transform(sample)\n",
    "        return sample\n",
    "        \n",
    "    def __len__(self):\n",
    "        # len of dataset\n",
    "        return self.n_samples\n",
    "        \n",
    "        "
   ]
  },
  {
   "cell_type": "code",
   "execution_count": 36,
   "id": "f28b403a",
   "metadata": {},
   "outputs": [],
   "source": [
    "# Custom transformation\n",
    "class ToTensor:\n",
    "    # class will behave like a function as __call__ method used\n",
    "    def __call__(self, sample):\n",
    "        inputs, labels = sample\n",
    "        return torch.from_numpy(inputs),torch.from_numpy(labels)\n",
    "    \n",
    "    \n",
    "    \n",
    "class MulTransform:\n",
    "    def __init__(self,factor):\n",
    "        self.factor = factor\n",
    "    \n",
    "    def __call__(self,sample):\n",
    "        inputs, labels = sample\n",
    "        inputs*= self.factor\n",
    "        return inputs,labels"
   ]
  },
  {
   "cell_type": "code",
   "execution_count": 37,
   "id": "cb2b9d7a",
   "metadata": {},
   "outputs": [
    {
     "name": "stdout",
     "output_type": "stream",
     "text": [
      "tensor([[1.3840e+01, 4.1200e+00, 2.3800e+00, 1.9500e+01, 8.9000e+01, 1.8000e+00,\n",
      "         8.3000e-01, 4.8000e-01, 1.5600e+00, 9.0100e+00, 5.7000e-01, 1.6400e+00,\n",
      "         4.8000e+02],\n",
      "        [1.3050e+01, 3.8600e+00, 2.3200e+00, 2.2500e+01, 8.5000e+01, 1.6500e+00,\n",
      "         1.5900e+00, 6.1000e-01, 1.6200e+00, 4.8000e+00, 8.4000e-01, 2.0100e+00,\n",
      "         5.1500e+02],\n",
      "        [1.1810e+01, 2.1200e+00, 2.7400e+00, 2.1500e+01, 1.3400e+02, 1.6000e+00,\n",
      "         9.9000e-01, 1.4000e-01, 1.5600e+00, 2.5000e+00, 9.5000e-01, 2.2600e+00,\n",
      "         6.2500e+02],\n",
      "        [1.3290e+01, 1.9700e+00, 2.6800e+00, 1.6800e+01, 1.0200e+02, 3.0000e+00,\n",
      "         3.2300e+00, 3.1000e-01, 1.6600e+00, 6.0000e+00, 1.0700e+00, 2.8400e+00,\n",
      "         1.2700e+03]]) tensor([[3.],\n",
      "        [2.],\n",
      "        [2.],\n",
      "        [1.]])\n",
      "<class 'torch.Tensor'> <class 'torch.Tensor'>\n"
     ]
    }
   ],
   "source": [
    "dataset = WineDataset(transform=ToTensor())\n",
    "dataloader = DataLoader(dataset=dataset,batch_size=4,shuffle=True)\n",
    "\n",
    "# To check one batch\n",
    "# Create an iterator\n",
    "data_iter = iter(dataloader)\n",
    "data = next(data_iter)\n",
    "features, label = data\n",
    "print(features,label)\n",
    "print(type(features),type(label))"
   ]
  },
  {
   "cell_type": "code",
   "execution_count": 38,
   "id": "801cbabf",
   "metadata": {},
   "outputs": [
    {
     "name": "stdout",
     "output_type": "stream",
     "text": [
      "Epoch 1/2,step: 5/45, inputs shape : torch.Size([4, 13])\n",
      "Epoch 1/2,step: 10/45, inputs shape : torch.Size([4, 13])\n",
      "Epoch 1/2,step: 15/45, inputs shape : torch.Size([4, 13])\n",
      "Epoch 1/2,step: 20/45, inputs shape : torch.Size([4, 13])\n",
      "Epoch 1/2,step: 25/45, inputs shape : torch.Size([4, 13])\n",
      "Epoch 1/2,step: 30/45, inputs shape : torch.Size([4, 13])\n",
      "Epoch 1/2,step: 35/45, inputs shape : torch.Size([4, 13])\n",
      "Epoch 1/2,step: 40/45, inputs shape : torch.Size([4, 13])\n",
      "Epoch 1/2,step: 45/45, inputs shape : torch.Size([2, 13])\n",
      "Epoch 2/2,step: 5/45, inputs shape : torch.Size([4, 13])\n",
      "Epoch 2/2,step: 10/45, inputs shape : torch.Size([4, 13])\n",
      "Epoch 2/2,step: 15/45, inputs shape : torch.Size([4, 13])\n",
      "Epoch 2/2,step: 20/45, inputs shape : torch.Size([4, 13])\n",
      "Epoch 2/2,step: 25/45, inputs shape : torch.Size([4, 13])\n",
      "Epoch 2/2,step: 30/45, inputs shape : torch.Size([4, 13])\n",
      "Epoch 2/2,step: 35/45, inputs shape : torch.Size([4, 13])\n",
      "Epoch 2/2,step: 40/45, inputs shape : torch.Size([4, 13])\n",
      "Epoch 2/2,step: 45/45, inputs shape : torch.Size([2, 13])\n"
     ]
    }
   ],
   "source": [
    "# Training loop\n",
    "num_epoch = 2\n",
    "total_samples = len(dataset)\n",
    "\n",
    "# Num of iteration in each epoch (total samples/batch size)\n",
    "n_iteration = math.ceil(total_samples/4)\n",
    "\n",
    "for epoch in range(num_epoch):\n",
    "    for i, (inputs,labels) in enumerate(dataloader):\n",
    "        # forward, backward and update\n",
    "        if(i+1)%5==0:\n",
    "            print(f'Epoch {epoch+1}/{num_epoch},step: {i+1}/{n_iteration}, inputs shape : {inputs.shape}')\n",
    "        "
   ]
  },
  {
   "cell_type": "code",
   "execution_count": null,
   "id": "dde3dbe8",
   "metadata": {},
   "outputs": [
    {
     "data": {
      "text/plain": [
       "<__main__.WineDataset at 0x210682a6070>"
      ]
     },
     "execution_count": 39,
     "metadata": {},
     "output_type": "execute_result"
    }
   ],
   "source": [
    "# Apply Multiple transformations \n",
    "composed = torchvision.transforms.Compose([ToTensor,MulTransform(2)])\n",
    "dataset = WineDataset(transform=composed)\n"
   ]
  }
 ],
 "metadata": {
  "kernelspec": {
   "display_name": "pytorch_practice",
   "language": "python",
   "name": "python3"
  },
  "language_info": {
   "codemirror_mode": {
    "name": "ipython",
    "version": 3
   },
   "file_extension": ".py",
   "mimetype": "text/x-python",
   "name": "python",
   "nbconvert_exporter": "python",
   "pygments_lexer": "ipython3",
   "version": "3.9.21"
  }
 },
 "nbformat": 4,
 "nbformat_minor": 5
}
