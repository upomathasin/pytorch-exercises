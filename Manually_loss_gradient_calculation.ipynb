{
 "cells": [
  {
   "cell_type": "code",
   "execution_count": 1,
   "id": "d84fd4e6",
   "metadata": {},
   "outputs": [],
   "source": [
    "import torch"
   ]
  },
  {
   "cell_type": "code",
   "execution_count": 2,
   "id": "831c063c",
   "metadata": {},
   "outputs": [
    {
     "name": "stdout",
     "output_type": "stream",
     "text": [
      "Prediction before training f(5)=0.000\n",
      "Epoch 1 w = 1.800, loss = 67.50000000\n",
      "Epoch 2 w = 2.520, loss = 10.80000114\n",
      "Epoch 3 w = 2.808, loss = 1.72800016\n",
      "Epoch 4 w = 2.923, loss = 0.27647990\n",
      "Epoch 5 w = 2.969, loss = 0.04423670\n",
      "Epoch 6 w = 2.988, loss = 0.00707790\n",
      "Epoch 7 w = 2.995, loss = 0.00113243\n",
      "Epoch 8 w = 2.998, loss = 0.00018120\n",
      "Epoch 9 w = 2.999, loss = 0.00002899\n",
      "Epoch 10 w = 3.000, loss = 0.00000464\n",
      "Prediction after training f(5)=14.998\n"
     ]
    }
   ],
   "source": [
    "import numpy as np\n",
    "# f = w * x\n",
    "\n",
    "X = np.array([1,2,3,4],dtype=np.float32)\n",
    "Y = np.array([3,6,9,12],dtype=np.float32)\n",
    "w = 0.0\n",
    "\n",
    "# Model prediction\n",
    "def forward(x):\n",
    "    return w*x\n",
    "\n",
    "# Loss(MSE)\n",
    "def loss(y,y_pred):\n",
    "    return ((y_pred-y)**2).mean()\n",
    "\n",
    "# Gradient \n",
    "# MSE = 1/N *(w*x - y)**2\n",
    "# dJ/dw = 1/N 2x (w*x-y)\n",
    "\n",
    "def gradient(x,y,y_pred):\n",
    "    return np.dot(2*x,y_pred-y).mean()\n",
    "\n",
    "print(f'Prediction before training f(5)={forward(5):.3f}' )\n",
    "\n",
    "# Training\n",
    "learning_rate = 0.01\n",
    "n_iters = 10\n",
    "\n",
    "for epoch in range(n_iters):\n",
    "    # Forward pass \n",
    "    y_pred = forward(X)\n",
    "    #Loss \n",
    "    l = loss(Y,y_pred)\n",
    "    #gradient\n",
    "    dw = gradient(X,Y,y_pred)\n",
    "    # Update weights \n",
    "    w -= learning_rate*dw\n",
    "    print(f'Epoch {epoch+1} w = {w:.3f}, loss = {l:.8f}')\n",
    "\n",
    "\n",
    "print(f'Prediction after training f(5)={forward(5):.3f}' )\n"
   ]
  },
  {
   "cell_type": "code",
   "execution_count": null,
   "id": "d0d02300",
   "metadata": {},
   "outputs": [],
   "source": []
  }
 ],
 "metadata": {
  "kernelspec": {
   "display_name": "pytorch_practice",
   "language": "python",
   "name": "python3"
  },
  "language_info": {
   "codemirror_mode": {
    "name": "ipython",
    "version": 3
   },
   "file_extension": ".py",
   "mimetype": "text/x-python",
   "name": "python",
   "nbconvert_exporter": "python",
   "pygments_lexer": "ipython3",
   "version": "3.9.21"
  }
 },
 "nbformat": 4,
 "nbformat_minor": 5
}
