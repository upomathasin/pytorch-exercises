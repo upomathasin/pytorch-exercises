{
 "cells": [
  {
   "cell_type": "code",
   "execution_count": 2,
   "id": "012b48e6",
   "metadata": {},
   "outputs": [],
   "source": [
    "import torch"
   ]
  },
  {
   "cell_type": "code",
   "execution_count": 3,
   "id": "0c34f851",
   "metadata": {},
   "outputs": [
    {
     "name": "stdout",
     "output_type": "stream",
     "text": [
      "tensor([0.3814, 0.0330, 0.3829, 0.3643, 0.3493], requires_grad=True)\n",
      "tensor([4.3814, 4.0330, 4.3829, 4.3643, 4.3493], grad_fn=<AddBackward0>)\n",
      "tensor([1.6711, 0.1331, 1.6780, 1.5897, 1.5192], grad_fn=<MulBackward0>)\n",
      "tensor(1.3182, grad_fn=<MeanBackward0>)\n"
     ]
    }
   ],
   "source": [
    "# Gradient will be automatically calculate\n",
    "x = torch.rand(5,requires_grad=True)\n",
    "print(x)\n",
    "y = x+4\n",
    "print(y)\n",
    "z = x*y\n",
    "print(z)\n",
    "z = z.mean()\n",
    "print(z)"
   ]
  },
  {
   "cell_type": "code",
   "execution_count": 4,
   "id": "f156ee0a",
   "metadata": {},
   "outputs": [
    {
     "name": "stdout",
     "output_type": "stream",
     "text": [
      "tensor([0.9526, 0.8132, 0.9531, 0.9457, 0.9397])\n"
     ]
    }
   ],
   "source": [
    "z.backward() # dz/dx\n",
    "print(x.grad)"
   ]
  },
  {
   "cell_type": "code",
   "execution_count": 5,
   "id": "8084649f",
   "metadata": {},
   "outputs": [
    {
     "name": "stdout",
     "output_type": "stream",
     "text": [
      "tensor([0.7494, 0.0379, 0.7514], requires_grad=True)\n",
      "tensor([0.7494, 0.0379, 0.7514])\n",
      "tensor([0.7494, 0.0379, 0.7514])\n",
      "tensor([1.4987, 0.0759, 1.5029])\n"
     ]
    }
   ],
   "source": [
    "# Prevent calculating gradients\n",
    "'''\n",
    "3 options:\n",
    "x.requires_grad_(False)\n",
    "x.detach()\n",
    "with torch.no_grad():\n",
    "\n",
    "'''\n",
    "\n",
    "x = torch.rand(3,requires_grad=True)\n",
    "y = torch.rand(4,requires_grad=True)\n",
    "z = torch.rand(5,requires_grad=True)\n",
    "\n",
    "# Using required_grad_()\n",
    "print(x)\n",
    "x.requires_grad_(False)\n",
    "print(x)\n",
    "\n",
    "# Using detach()   \n",
    "d = x.detach() # Will create a new tensor with same value without gradients\n",
    "print(d)\n",
    "\n",
    "\n",
    "# Using torch.no_grad()\n",
    "with torch.no_grad():\n",
    "    s = x+x              \n",
    "print(s)\n"
   ]
  },
  {
   "cell_type": "code",
   "execution_count": 13,
   "id": "e12b19fd",
   "metadata": {},
   "outputs": [],
   "source": [
    "x = torch.ones(4,requires_grad=True)\n",
    "result = (2*x).sum()\n",
    "result.backward()"
   ]
  },
  {
   "cell_type": "code",
   "execution_count": 14,
   "id": "6bf53915",
   "metadata": {},
   "outputs": [
    {
     "name": "stdout",
     "output_type": "stream",
     "text": [
      "tensor([2., 2., 2., 2.])\n"
     ]
    },
    {
     "data": {
      "text/plain": [
       "tensor([0., 0., 0., 0.])"
      ]
     },
     "execution_count": 14,
     "metadata": {},
     "output_type": "execute_result"
    }
   ],
   "source": [
    "# gradient\n",
    "print(x.grad)\n",
    "# Empty gradient\n",
    "x.grad.zero_()\n"
   ]
  }
 ],
 "metadata": {
  "kernelspec": {
   "display_name": "pytorch_practice",
   "language": "python",
   "name": "python3"
  },
  "language_info": {
   "codemirror_mode": {
    "name": "ipython",
    "version": 3
   },
   "file_extension": ".py",
   "mimetype": "text/x-python",
   "name": "python",
   "nbconvert_exporter": "python",
   "pygments_lexer": "ipython3",
   "version": "3.9.21"
  }
 },
 "nbformat": 4,
 "nbformat_minor": 5
}
