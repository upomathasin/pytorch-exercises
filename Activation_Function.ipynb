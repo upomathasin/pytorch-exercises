{
 "cells": [
  {
   "cell_type": "code",
   "execution_count": null,
   "id": "f8b62372",
   "metadata": {},
   "outputs": [],
   "source": [
    "''' \n",
    "Some activation functions:\n",
    "1. Step function (Not use in practice)\n",
    "2. Sigmoid (output is probability between 0 and 1) - use in last layer of binary classification\n",
    "3. TanH (output is between -1 and +1) - use in hidden layer\n",
    "4.ReLu (output is if x>0 output is x else 0 - use in hidden layers (max(0,x))\n",
    "5. Leaky ReLu (output is x if x >= 0 else a*x\") Improved ReLu to solve vanishing gradient descent problem (max(0,a.x))\n",
    "6. Softmax (output between 0 and 1) - good choice for multi-class classification problems\n",
    "\n",
    "'''"
   ]
  },
  {
   "cell_type": "code",
   "execution_count": 3,
   "id": "26a9770f",
   "metadata": {},
   "outputs": [],
   "source": [
    "import torch\n",
    "import torch.nn as nn"
   ]
  },
  {
   "cell_type": "code",
   "execution_count": null,
   "id": "b6870893",
   "metadata": {},
   "outputs": [],
   "source": [
    "# By using activation functions directly in forward pass\n",
    "class NeuralNet(nn.Module):\n",
    "    def __init__(self,input_size,hidden_size):\n",
    "        super().__init__()\n",
    "        self.linear1 = nn.Linear(input_size,hidden_size)\n",
    "        self.linear2 = nn.Linear(hidden_size,1)\n",
    "    \n",
    "    def forward(self,x):\n",
    "        out = torch.relu(self.linear1(x))\n",
    "        out = torch.relu(self.linear2(x))\n",
    "        return out"
   ]
  }
 ],
 "metadata": {
  "kernelspec": {
   "display_name": "pytorch_practice",
   "language": "python",
   "name": "python3"
  },
  "language_info": {
   "codemirror_mode": {
    "name": "ipython",
    "version": 3
   },
   "file_extension": ".py",
   "mimetype": "text/x-python",
   "name": "python",
   "nbconvert_exporter": "python",
   "pygments_lexer": "ipython3",
   "version": "3.9.21"
  }
 },
 "nbformat": 4,
 "nbformat_minor": 5
}
