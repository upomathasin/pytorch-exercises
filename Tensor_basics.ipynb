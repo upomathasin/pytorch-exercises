{
 "cells": [
  {
   "cell_type": "code",
   "execution_count": 43,
   "id": "f7a7634a",
   "metadata": {},
   "outputs": [],
   "source": [
    "import torch\n",
    "import numpy as np"
   ]
  },
  {
   "cell_type": "code",
   "execution_count": 3,
   "id": "fa0cff79",
   "metadata": {},
   "outputs": [
    {
     "data": {
      "text/plain": [
       "tensor([-2.0491e+03,  1.5372e-42,  0.0000e+00])"
      ]
     },
     "execution_count": 3,
     "metadata": {},
     "output_type": "execute_result"
    }
   ],
   "source": [
    "# 1D vector with 3 elements\n",
    "x = torch.empty(3)\n",
    "x"
   ]
  },
  {
   "cell_type": "code",
   "execution_count": 4,
   "id": "34f9f084",
   "metadata": {},
   "outputs": [
    {
     "name": "stdout",
     "output_type": "stream",
     "text": [
      "tensor([[0., 0., 0.],\n",
      "        [0., 0., 0.]])\n"
     ]
    }
   ],
   "source": [
    "# 2D vector with 3 elements\n",
    "y = torch.empty(2,3)\n",
    "print(y)\n"
   ]
  },
  {
   "cell_type": "code",
   "execution_count": 5,
   "id": "1b146035",
   "metadata": {},
   "outputs": [
    {
     "name": "stdout",
     "output_type": "stream",
     "text": [
      "tensor([[0., 0., 0.],\n",
      "        [0., 0., 0.],\n",
      "        [0., 0., 0.]])\n"
     ]
    }
   ],
   "source": [
    "# # 3D vector with 3 elements\n",
    "z = torch.empty(3,3)\n",
    "print(z)"
   ]
  },
  {
   "cell_type": "code",
   "execution_count": 6,
   "id": "cdab5df3",
   "metadata": {},
   "outputs": [
    {
     "data": {
      "text/plain": [
       "tensor([[0.8386, 0.0620],\n",
       "        [0.8316, 0.6104]])"
      ]
     },
     "execution_count": 6,
     "metadata": {},
     "output_type": "execute_result"
    }
   ],
   "source": [
    "# tensor with random values\n",
    "a = torch.rand(2,2)\n",
    "a"
   ]
  },
  {
   "cell_type": "code",
   "execution_count": 7,
   "id": "8fbcc699",
   "metadata": {},
   "outputs": [
    {
     "data": {
      "text/plain": [
       "tensor([[1., 1.],\n",
       "        [1., 1.]])"
      ]
     },
     "execution_count": 7,
     "metadata": {},
     "output_type": "execute_result"
    }
   ],
   "source": [
    "# tensor with one value\n",
    "b = torch.ones(2,2)\n",
    "b"
   ]
  },
  {
   "cell_type": "code",
   "execution_count": 8,
   "id": "5a56ec24",
   "metadata": {},
   "outputs": [
    {
     "name": "stdout",
     "output_type": "stream",
     "text": [
      "torch.float32\n",
      "torch.int64\n"
     ]
    }
   ],
   "source": [
    "# Check data type\n",
    "print(b.dtype)  # By default data type is float\n",
    "b = torch.ones(2,2,dtype=int) # Can define datatype\n",
    "print(b.dtype)"
   ]
  },
  {
   "cell_type": "code",
   "execution_count": 9,
   "id": "702656b5",
   "metadata": {},
   "outputs": [
    {
     "name": "stdout",
     "output_type": "stream",
     "text": [
      "torch.Size([2, 2])\n"
     ]
    }
   ],
   "source": [
    "# Check size of a tensor\n",
    "print(b.size())"
   ]
  },
  {
   "cell_type": "code",
   "execution_count": 10,
   "id": "f9e4ce8c",
   "metadata": {},
   "outputs": [
    {
     "data": {
      "text/plain": [
       "tensor([2.3000, 4.5000])"
      ]
     },
     "execution_count": 10,
     "metadata": {},
     "output_type": "execute_result"
    }
   ],
   "source": [
    "# Create a tensor with values\n",
    "x = torch.Tensor([2.3,4.5])\n",
    "x"
   ]
  },
  {
   "cell_type": "code",
   "execution_count": 11,
   "id": "2347b4b8",
   "metadata": {},
   "outputs": [
    {
     "data": {
      "text/plain": [
       "tensor([[0.9205, 1.4941],\n",
       "        [0.6159, 0.7321]])"
      ]
     },
     "execution_count": 11,
     "metadata": {},
     "output_type": "execute_result"
    }
   ],
   "source": [
    "# Add two tensors\n",
    "x = torch.rand(2,2)\n",
    "y = torch.rand(2,2)\n",
    "y.add(x)\n"
   ]
  },
  {
   "cell_type": "code",
   "execution_count": null,
   "id": "2321e6c7",
   "metadata": {},
   "outputs": [
    {
     "data": {
      "text/plain": [
       "tensor([[-0.1385, -0.1253],\n",
       "        [-0.0450, -0.2987]])"
      ]
     },
     "execution_count": 12,
     "metadata": {},
     "output_type": "execute_result"
    }
   ],
   "source": [
    "# Subtraction\n",
    "z = x-y\n",
    "z"
   ]
  },
  {
   "cell_type": "code",
   "execution_count": 13,
   "id": "baa62657",
   "metadata": {},
   "outputs": [
    {
     "data": {
      "text/plain": [
       "tensor([[0.2070, 0.5542],\n",
       "        [0.0943, 0.1117]])"
      ]
     },
     "execution_count": 13,
     "metadata": {},
     "output_type": "execute_result"
    }
   ],
   "source": [
    "# Multiplication\n",
    "z = x*y\n",
    "z"
   ]
  },
  {
   "cell_type": "code",
   "execution_count": null,
   "id": "dcf80fb9",
   "metadata": {},
   "outputs": [
    {
     "data": {
      "text/plain": [
       "tensor([[0.7385, 0.8452],\n",
       "        [0.8639, 0.4205]])"
      ]
     },
     "execution_count": 14,
     "metadata": {},
     "output_type": "execute_result"
    }
   ],
   "source": [
    "# Division\n",
    "z = x/y\n",
    "z"
   ]
  },
  {
   "cell_type": "code",
   "execution_count": 23,
   "id": "fefe24b4",
   "metadata": {},
   "outputs": [
    {
     "name": "stdout",
     "output_type": "stream",
     "text": [
      "tensor([[0.8021, 0.6831, 0.8613, 0.0080],\n",
      "        [0.1858, 0.3381, 0.4132, 0.4857],\n",
      "        [0.9969, 0.0248, 0.1501, 0.6615],\n",
      "        [0.3528, 0.1585, 0.6313, 0.9818],\n",
      "        [0.8064, 0.7144, 0.5411, 0.8856],\n",
      "        [0.5900, 0.1639, 0.5345, 0.9804]])\n",
      "tensor([0.8021, 0.1858, 0.9969, 0.3528, 0.8064, 0.5900])\n",
      "tensor([0.8021, 0.6831, 0.8613, 0.0080])\n"
     ]
    }
   ],
   "source": [
    "# Slicing\n",
    "x = torch.rand(6,4)\n",
    "print(x)\n",
    "print(x[:,0]) # All rows and 0 columns\n",
    "print(x[0,:]) # All columns 0th row"
   ]
  },
  {
   "cell_type": "code",
   "execution_count": 27,
   "id": "38780962",
   "metadata": {},
   "outputs": [
    {
     "name": "stdout",
     "output_type": "stream",
     "text": [
      "tensor(0.3381)\n",
      "0.33814454078674316\n"
     ]
    }
   ],
   "source": [
    "z = x[1,1]\n",
    "print(z)\n",
    "# To get actual value call item method when we have 1 row 1 column tensor\n",
    "print(z.item())"
   ]
  },
  {
   "cell_type": "code",
   "execution_count": null,
   "id": "45463272",
   "metadata": {},
   "outputs": [
    {
     "name": "stdout",
     "output_type": "stream",
     "text": [
      "tensor([[0.4159, 0.6640, 0.1909, 0.2912, 0.2112, 0.1578],\n",
      "        [0.4988, 0.7442, 0.8954, 0.1543, 0.1656, 0.4673],\n",
      "        [0.7983, 0.6548, 0.9998, 0.2961, 0.9830, 0.3642],\n",
      "        [0.2421, 0.1790, 0.8244, 0.1294, 0.6396, 0.5991],\n",
      "        [0.9506, 0.4504, 0.0440, 0.9390, 0.8951, 0.0013],\n",
      "        [0.9603, 0.7684, 0.1747, 0.4922, 0.7260, 0.7773]])\n",
      "torch.Size([6, 6])\n"
     ]
    }
   ],
   "source": [
    "# Resizing a tensor calling view() method\n",
    "x = torch.rand(6,6)\n",
    "\n",
    "y = x.view(-1,6) # Row size will be automatically detected and column size is 6\n",
    "print(y)\n",
    "\n",
    "# Size of a tensor\n",
    "print(y.size())"
   ]
  },
  {
   "cell_type": "code",
   "execution_count": null,
   "id": "89c545b0",
   "metadata": {},
   "outputs": [
    {
     "name": "stdout",
     "output_type": "stream",
     "text": [
      "<class 'torch.Tensor'>\n",
      "<class 'numpy.ndarray'>\n",
      "Before\n",
      "tensor([1., 1., 1., 1., 1.])\n",
      "[1. 1. 1. 1. 1.]\n",
      "\n",
      "After\n",
      "tensor([2., 2., 2., 2., 2.])\n",
      "[2. 2. 2. 2. 2.]\n"
     ]
    }
   ],
   "source": [
    "a = torch.ones(5)\n",
    "b = a.numpy() # Convert tensor into numpy\n",
    "print(type(a))\n",
    "print(type(b))\n",
    "\n",
    "\n",
    "# If tensor is in cpu(not gpu) they will share same memory address\n",
    "print('Before')\n",
    "print(a)\n",
    "print(b)\n",
    "print('\\nAfter') \n",
    "a.add_(1) # Both a and b will be changed as the share same memory location\n",
    "print(a)\n",
    "print(b)"
   ]
  },
  {
   "cell_type": "code",
   "execution_count": 56,
   "id": "7287e605",
   "metadata": {},
   "outputs": [
    {
     "name": "stdout",
     "output_type": "stream",
     "text": [
      "<class 'torch.Tensor'>\n"
     ]
    }
   ],
   "source": [
    "a = np.ones(5)\n",
    "b = torch.from_numpy(a) # Convert numpy into tensor\n",
    "print(type(b))"
   ]
  },
  {
   "cell_type": "code",
   "execution_count": 60,
   "id": "52eef16d",
   "metadata": {},
   "outputs": [
    {
     "name": "stdout",
     "output_type": "stream",
     "text": [
      "CUDA is Available\n",
      "tensor([[1., 1., 1., 1., 1.],\n",
      "        [1., 1., 1., 1., 1.],\n",
      "        [1., 1., 1., 1., 1.],\n",
      "        [1., 1., 1., 1., 1.],\n",
      "        [1., 1., 1., 1., 1.]], device='cuda:0')\n",
      "tensor([[1., 1.],\n",
      "        [1., 1.]], device='cuda:0')\n"
     ]
    }
   ],
   "source": [
    "# Check cuda is available or not\n",
    "if torch.cuda.is_available():\n",
    "    device = torch.device('cuda')\n",
    "    print('CUDA is Available')\n",
    "    x = torch.ones(5,5,device=device)\n",
    "    print(x)\n",
    "    y = torch.ones(2,2).to(device)\n",
    "    print(y)\n",
    "else:\n",
    "    \n",
    "     print('CUDA is not Available')"
   ]
  },
  {
   "cell_type": "code",
   "execution_count": 61,
   "id": "ca51d1d0",
   "metadata": {},
   "outputs": [
    {
     "data": {
      "text/plain": [
       "tensor([[1., 1., 1., 1.],\n",
       "        [1., 1., 1., 1.],\n",
       "        [1., 1., 1., 1.],\n",
       "        [1., 1., 1., 1.]], requires_grad=True)"
      ]
     },
     "execution_count": 61,
     "metadata": {},
     "output_type": "execute_result"
    }
   ],
   "source": [
    "# calculate gradient of a tensor\n",
    "x = torch.ones(4,4,requires_grad=True)\n",
    "x"
   ]
  },
  {
   "cell_type": "code",
   "execution_count": null,
   "id": "714aa5bf",
   "metadata": {},
   "outputs": [],
   "source": []
  }
 ],
 "metadata": {
  "kernelspec": {
   "display_name": "pytorch_practice",
   "language": "python",
   "name": "python3"
  },
  "language_info": {
   "codemirror_mode": {
    "name": "ipython",
    "version": 3
   },
   "file_extension": ".py",
   "mimetype": "text/x-python",
   "name": "python",
   "nbconvert_exporter": "python",
   "pygments_lexer": "ipython3",
   "version": "3.9.21"
  }
 },
 "nbformat": 4,
 "nbformat_minor": 5
}
