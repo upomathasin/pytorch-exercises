{
 "cells": [
  {
   "cell_type": "code",
   "execution_count": 1,
   "id": "b1a0200f",
   "metadata": {},
   "outputs": [],
   "source": [
    "import torch\n",
    "import torch.nn as nn\n",
    "import torchvision \n",
    "import torchvision.transforms as transforms\n",
    "import matplotlib.pyplot as plt\n",
    "from torch.utils.data import DataLoader\n"
   ]
  },
  {
   "cell_type": "code",
   "execution_count": 2,
   "id": "fb4130ac",
   "metadata": {},
   "outputs": [],
   "source": [
    "# Define device\n",
    "device = torch.device('cuda' if torch.cuda.is_available() else 'cpu')\n",
    "\n",
    "# Define hyper parameters\n",
    "input_size = 784  # (as input images is 28*28 )\n",
    "hidden_size = 100 # can be tuned\n",
    "num_classes = 10\n",
    "num_epochs = 2\n",
    "batch_size = 100\n",
    "learning_rate = 0.001\n",
    "\n",
    "# Import MNIST dataset\n",
    "train_dataset = torchvision.datasets.MNIST(root=r'C:\\Pytorch Practice\\Data\\mnist_data', train=True, transform=transforms.ToTensor(), download=True)\n",
    "\n",
    "test_dataset = torchvision.datasets.MNIST(root=r'C:\\Pytorch Practice\\Data\\mnist_data', train=False, transform=transforms.ToTensor())\n",
    "# Dataloaders\n",
    "train_loaders =  DataLoader(dataset= train_dataset,batch_size=batch_size,shuffle= True)\n",
    "test_loaders =  DataLoader(dataset= test_dataset,batch_size=batch_size,shuffle= False)"
   ]
  },
  {
   "cell_type": "code",
   "execution_count": 3,
   "id": "9a5d04b1",
   "metadata": {},
   "outputs": [
    {
     "data": {
      "text/plain": [
       "(torch.Size([100, 1, 28, 28]), torch.Size([100]))"
      ]
     },
     "execution_count": 3,
     "metadata": {},
     "output_type": "execute_result"
    }
   ],
   "source": [
    "# check data\n",
    "examples = iter(train_loaders)\n",
    "samples, labels = next(examples)\n",
    "\n",
    "samples.shape, labels.shape"
   ]
  },
  {
   "cell_type": "code",
   "execution_count": 4,
   "id": "577254d4",
   "metadata": {},
   "outputs": [
    {
     "data": {
      "image/png": "[encoded data removed]",
      "text/plain": [
       "<Figure size 640x480 with 6 Axes>"
      ]
     },
     "metadata": {},
     "output_type": "display_data"
    }
   ],
   "source": [
    "for i in range(6):\n",
    "    plt.subplot(2,3,i+1)\n",
    "    plt.imshow(samples[i][0], cmap=\"gray\")\n",
    "    plt.title(f\"Label: {labels[i].item()}\")\n",
    "\n",
    "plt.show()"
   ]
  },
  {
   "cell_type": "code",
   "execution_count": 5,
   "id": "72f39112",
   "metadata": {},
   "outputs": [],
   "source": [
    "# Define a neural network\n",
    "class NeuralNet(nn.Module):\n",
    "    def __init__(self, input_size,hidden_size,num_classes):\n",
    "        super().__init__()\n",
    "        self.l1 = nn.Linear(input_size,hidden_size)\n",
    "        self.relu = nn.ReLU()\n",
    "        self.l2 = nn.Linear(hidden_size,num_classes)\n",
    "    \n",
    "    def forward(self,x):\n",
    "        output = self.l1(x)\n",
    "        output = self.relu(output)\n",
    "        output = self.l2(output)\n",
    "        return output\n",
    "   "
   ]
  },
  {
   "cell_type": "code",
   "execution_count": 7,
   "id": "c10485d4",
   "metadata": {},
   "outputs": [
    {
     "name": "stdout",
     "output_type": "stream",
     "text": [
      "Epoch 1/2, loss = 0.41551437973976135\n",
      "Epoch 2/2, loss = 0.23450683057308197\n",
      "Accuracy = 95.29%\n"
     ]
    }
   ],
   "source": [
    "# Model\n",
    "model = NeuralNet(input_size,hidden_size,num_classes)\n",
    "model = model.to(device)\n",
    "# Loss and optimizer\n",
    "criterion = nn.CrossEntropyLoss()\n",
    "optimizer = torch.optim.Adam(model.parameters(),lr=learning_rate)\n",
    "\n",
    "# Training\n",
    "for epoch in range(num_epochs):\n",
    "    for i,(images,labels) in enumerate(train_loaders):\n",
    "        images = images.reshape(-1,28*28).to(device)\n",
    "        labels = labels.to(device)\n",
    "        \n",
    "        # Forward pass\n",
    "        outputs = model(images)\n",
    "        loss = criterion(outputs,labels)\n",
    "        \n",
    "        # Backward pass\n",
    "        optimizer.zero_grad()\n",
    "        loss.backward()\n",
    "        optimizer.step()\n",
    "     \n",
    "    \n",
    "    print(f'Epoch {epoch+1}/{num_epochs}, loss = {loss.item()}')   \n",
    "    \n",
    "    \n",
    "    \n",
    "# Testing\n",
    "n_correct = 0\n",
    "n_samples = 0\n",
    "with torch.no_grad():\n",
    "    for images,labels in test_loaders:\n",
    "        images = images.reshape(-1,28*28).to(device)\n",
    "        labels = labels.to(device)\n",
    "        \n",
    "        outputs = model(images)\n",
    "        #(value,index)\n",
    "        _,pred = torch.max(outputs,1)\n",
    "        n_samples+= labels.shape[0]\n",
    "        n_correct += (pred== labels).sum().item()\n",
    "        \n",
    "    acc = 100.0 * n_correct/n_samples\n",
    "    print(f'Accuracy = {acc}%')\n",
    "    \n",
    "    \n",
    "    \n",
    "    \n"
   ]
  }
 ],
 "metadata": {
  "kernelspec": {
   "display_name": "pytorch_practice",
   "language": "python",
   "name": "python3"
  },
  "language_info": {
   "codemirror_mode": {
    "name": "ipython",
    "version": 3
   },
   "file_extension": ".py",
   "mimetype": "text/x-python",
   "name": "python",
   "nbconvert_exporter": "python",
   "pygments_lexer": "ipython3",
   "version": "3.9.21"
  }
 },
 "nbformat": 4,
 "nbformat_minor": 5
}
